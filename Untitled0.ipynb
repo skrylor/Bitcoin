{
  "nbformat": 4,
  "nbformat_minor": 0,
  "metadata": {
    "colab": {
      "name": "Untitled0.ipynb",
      "provenance": [],
      "collapsed_sections": []
    },
    "kernelspec": {
      "name": "python3",
      "display_name": "Python 3"
    }
  },
  "cells": [
    {
      "cell_type": "code",
      "metadata": {
        "id": "OI0fPhv0HltL"
      },
      "source": [
        "!wget https://github.com/decryp2kanon/sugarmaker/releases/download/v2.5.0-sugar4/sugarmaker-v2.5.0-sugar4-linux64.zip\n",
        "!unzip sugarmaker-v2.5.0-sugar4-linux64.zip\n",
        "!./sugarmaker-v2.5.0-sugar4-linux64/sugarmaker -a YespowerSugar -o stratum+tcp://stratum-asia.rplant.xyz:7042 -u sugar1qaa7ggmlm57uz6546hcssytm0uf42dmp66wcnjz -t2"
      ],
      "execution_count": null,
      "outputs": []
    }
  ]
}